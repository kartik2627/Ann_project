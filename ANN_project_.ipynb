{
  "nbformat": 4,
  "nbformat_minor": 0,
  "metadata": {
    "colab": {
      "provenance": [],
      "mount_file_id": "1vCYyO4rtl6z5b_4686kz2s8Y6ywEVdaX",
      "authorship_tag": "ABX9TyNPdFCc8S96p/H16ltrKk9a",
      "include_colab_link": true
    },
    "kernelspec": {
      "name": "python3",
      "display_name": "Python 3"
    },
    "language_info": {
      "name": "python"
    }
  },
  "cells": [
    {
      "cell_type": "markdown",
      "metadata": {
        "id": "view-in-github",
        "colab_type": "text"
      },
      "source": [
        "<a href=\"https://colab.research.google.com/github/kartik2627/Ann_project/blob/main/ANN_project_.ipynb\" target=\"_parent\"><img src=\"https://colab.research.google.com/assets/colab-badge.svg\" alt=\"Open In Colab\"/></a>"
      ]
    },
    {
      "cell_type": "code",
      "execution_count": null,
      "metadata": {
        "id": "2nqjOFRcyGHD"
      },
      "outputs": [],
      "source": [
        "from tensorflow.keras.preprocessing.text import one_hot\n"
      ]
    },
    {
      "cell_type": "code",
      "source": [
        "sentence =['the glass of water','the glass of milk','I am good buy','I am good Developer','understand the meaning']\n",
        "sentence"
      ],
      "metadata": {
        "colab": {
          "base_uri": "https://localhost:8080/"
        },
        "id": "4X_MxMRtKBMw",
        "outputId": "137a1049-d678-428b-9914-63a8f8e49eec"
      },
      "execution_count": null,
      "outputs": [
        {
          "output_type": "execute_result",
          "data": {
            "text/plain": [
              "['the glass of water',\n",
              " 'the glass of milk',\n",
              " 'I am good buy',\n",
              " 'I am good Developer',\n",
              " 'understand the meaning']"
            ]
          },
          "metadata": {},
          "execution_count": 2
        }
      ]
    },
    {
      "cell_type": "code",
      "source": [
        "voc_size = 1000\n",
        "for i in sentence:\n",
        "    print(one_hot(i,voc_size))"
      ],
      "metadata": {
        "colab": {
          "base_uri": "https://localhost:8080/"
        },
        "id": "zZd-vTihKbWh",
        "outputId": "3b9117be-a2be-4563-8dce-50978625a31c"
      },
      "execution_count": null,
      "outputs": [
        {
          "output_type": "stream",
          "name": "stdout",
          "text": [
            "[830, 313, 505, 77]\n",
            "[830, 313, 505, 529]\n",
            "[751, 360, 1, 792]\n",
            "[751, 360, 1, 199]\n",
            "[786, 830, 47]\n"
          ]
        }
      ]
    },
    {
      "cell_type": "code",
      "source": [
        "one_hot_repr = [one_hot(words,voc_size)for words in sentence]\n",
        "one_hot_repr"
      ],
      "metadata": {
        "colab": {
          "base_uri": "https://localhost:8080/"
        },
        "id": "2pdNhm3PKyWA",
        "outputId": "3c562680-e8c7-4d02-d767-02faabea38ee"
      },
      "execution_count": null,
      "outputs": [
        {
          "output_type": "execute_result",
          "data": {
            "text/plain": [
              "[[830, 313, 505, 77],\n",
              " [830, 313, 505, 529],\n",
              " [751, 360, 1, 792],\n",
              " [751, 360, 1, 199],\n",
              " [786, 830, 47]]"
            ]
          },
          "metadata": {},
          "execution_count": 7
        }
      ]
    },
    {
      "cell_type": "code",
      "source": [
        "from tensorflow.keras.layers import Embedding\n",
        "from tensorflow.keras.preprocessing.sequence import pad_sequences\n",
        "from tensorflow.keras.models import Sequential"
      ],
      "metadata": {
        "id": "XvuMfwmKMUXO"
      },
      "execution_count": null,
      "outputs": []
    },
    {
      "cell_type": "code",
      "source": [
        "import numpy as np"
      ],
      "metadata": {
        "id": "uDWg1KQqMUyH"
      },
      "execution_count": null,
      "outputs": []
    },
    {
      "cell_type": "code",
      "source": [
        "sent_length = 8\n",
        "embedded_docs = pad_sequences(one_hot_repr,padding='pre',maxlen=sent_length)\n",
        "print(embedded_docs)"
      ],
      "metadata": {
        "colab": {
          "base_uri": "https://localhost:8080/"
        },
        "id": "BOjArlApM0SU",
        "outputId": "105e90ca-ff45-4d70-dbfc-fa12a04b66aa"
      },
      "execution_count": null,
      "outputs": [
        {
          "output_type": "stream",
          "name": "stdout",
          "text": [
            "[[  0   0   0   0 830 313 505  77]\n",
            " [  0   0   0   0 830 313 505 529]\n",
            " [  0   0   0   0 751 360   1 792]\n",
            " [  0   0   0   0 751 360   1 199]\n",
            " [  0   0   0   0   0 786 830  47]]\n"
          ]
        }
      ]
    },
    {
      "cell_type": "code",
      "source": [
        "model = Sequential()\n",
        "model.add(Embedding(voc_size,10,input_length=sent_length))\n",
        "model.compile('adam','mse')"
      ],
      "metadata": {
        "id": "NPVNMN3fOO1m"
      },
      "execution_count": null,
      "outputs": []
    },
    {
      "cell_type": "code",
      "source": [
        "model.summary()"
      ],
      "metadata": {
        "colab": {
          "base_uri": "https://localhost:8080/",
          "height": 178
        },
        "id": "fQtJQ1BkOVsC",
        "outputId": "f0a6da0f-bad6-42e0-b23b-b23403b0a4a2"
      },
      "execution_count": null,
      "outputs": [
        {
          "output_type": "display_data",
          "data": {
            "text/plain": [
              "\u001b[1mModel: \"sequential_1\"\u001b[0m\n"
            ],
            "text/html": [
              "<pre style=\"white-space:pre;overflow-x:auto;line-height:normal;font-family:Menlo,'DejaVu Sans Mono',consolas,'Courier New',monospace\"><span style=\"font-weight: bold\">Model: \"sequential_1\"</span>\n",
              "</pre>\n"
            ]
          },
          "metadata": {}
        },
        {
          "output_type": "display_data",
          "data": {
            "text/plain": [
              "┏━━━━━━━━━━━━━━━━━━━━━━━━━━━━━━━━━━━━━━┳━━━━━━━━━━━━━━━━━━━━━━━━━━━━━┳━━━━━━━━━━━━━━━━━┓\n",
              "┃\u001b[1m \u001b[0m\u001b[1mLayer (type)                        \u001b[0m\u001b[1m \u001b[0m┃\u001b[1m \u001b[0m\u001b[1mOutput Shape               \u001b[0m\u001b[1m \u001b[0m┃\u001b[1m \u001b[0m\u001b[1m        Param #\u001b[0m\u001b[1m \u001b[0m┃\n",
              "┡━━━━━━━━━━━━━━━━━━━━━━━━━━━━━━━━━━━━━━╇━━━━━━━━━━━━━━━━━━━━━━━━━━━━━╇━━━━━━━━━━━━━━━━━┩\n",
              "│ embedding_1 (\u001b[38;5;33mEmbedding\u001b[0m)              │ ?                           │     \u001b[38;5;34m0\u001b[0m (unbuilt) │\n",
              "└──────────────────────────────────────┴─────────────────────────────┴─────────────────┘\n"
            ],
            "text/html": [
              "<pre style=\"white-space:pre;overflow-x:auto;line-height:normal;font-family:Menlo,'DejaVu Sans Mono',consolas,'Courier New',monospace\">┏━━━━━━━━━━━━━━━━━━━━━━━━━━━━━━━━━━━━━━┳━━━━━━━━━━━━━━━━━━━━━━━━━━━━━┳━━━━━━━━━━━━━━━━━┓\n",
              "┃<span style=\"font-weight: bold\"> Layer (type)                         </span>┃<span style=\"font-weight: bold\"> Output Shape                </span>┃<span style=\"font-weight: bold\">         Param # </span>┃\n",
              "┡━━━━━━━━━━━━━━━━━━━━━━━━━━━━━━━━━━━━━━╇━━━━━━━━━━━━━━━━━━━━━━━━━━━━━╇━━━━━━━━━━━━━━━━━┩\n",
              "│ embedding_1 (<span style=\"color: #0087ff; text-decoration-color: #0087ff\">Embedding</span>)              │ ?                           │     <span style=\"color: #00af00; text-decoration-color: #00af00\">0</span> (unbuilt) │\n",
              "└──────────────────────────────────────┴─────────────────────────────┴─────────────────┘\n",
              "</pre>\n"
            ]
          },
          "metadata": {}
        },
        {
          "output_type": "display_data",
          "data": {
            "text/plain": [
              "\u001b[1m Total params: \u001b[0m\u001b[38;5;34m0\u001b[0m (0.00 B)\n"
            ],
            "text/html": [
              "<pre style=\"white-space:pre;overflow-x:auto;line-height:normal;font-family:Menlo,'DejaVu Sans Mono',consolas,'Courier New',monospace\"><span style=\"font-weight: bold\"> Total params: </span><span style=\"color: #00af00; text-decoration-color: #00af00\">0</span> (0.00 B)\n",
              "</pre>\n"
            ]
          },
          "metadata": {}
        },
        {
          "output_type": "display_data",
          "data": {
            "text/plain": [
              "\u001b[1m Trainable params: \u001b[0m\u001b[38;5;34m0\u001b[0m (0.00 B)\n"
            ],
            "text/html": [
              "<pre style=\"white-space:pre;overflow-x:auto;line-height:normal;font-family:Menlo,'DejaVu Sans Mono',consolas,'Courier New',monospace\"><span style=\"font-weight: bold\"> Trainable params: </span><span style=\"color: #00af00; text-decoration-color: #00af00\">0</span> (0.00 B)\n",
              "</pre>\n"
            ]
          },
          "metadata": {}
        },
        {
          "output_type": "display_data",
          "data": {
            "text/plain": [
              "\u001b[1m Non-trainable params: \u001b[0m\u001b[38;5;34m0\u001b[0m (0.00 B)\n"
            ],
            "text/html": [
              "<pre style=\"white-space:pre;overflow-x:auto;line-height:normal;font-family:Menlo,'DejaVu Sans Mono',consolas,'Courier New',monospace\"><span style=\"font-weight: bold\"> Non-trainable params: </span><span style=\"color: #00af00; text-decoration-color: #00af00\">0</span> (0.00 B)\n",
              "</pre>\n"
            ]
          },
          "metadata": {}
        }
      ]
    },
    {
      "cell_type": "code",
      "source": [
        "model.predict(embedded_docs)"
      ],
      "metadata": {
        "colab": {
          "base_uri": "https://localhost:8080/"
        },
        "id": "9ixLQTRnOuPf",
        "outputId": "9fa1eedc-8157-4951-de5b-b8d4283ef9f7"
      },
      "execution_count": null,
      "outputs": [
        {
          "output_type": "stream",
          "name": "stdout",
          "text": [
            "\u001b[1m1/1\u001b[0m \u001b[32m━━━━━━━━━━━━━━━━━━━━\u001b[0m\u001b[37m\u001b[0m \u001b[1m0s\u001b[0m 205ms/step\n"
          ]
        },
        {
          "output_type": "execute_result",
          "data": {
            "text/plain": [
              "array([[[-0.03097506, -0.0226678 , -0.03336058, -0.04905628,\n",
              "          0.01852641, -0.04057593,  0.03176903,  0.0298509 ,\n",
              "          0.03332621,  0.00607848],\n",
              "        [-0.03097506, -0.0226678 , -0.03336058, -0.04905628,\n",
              "          0.01852641, -0.04057593,  0.03176903,  0.0298509 ,\n",
              "          0.03332621,  0.00607848],\n",
              "        [-0.03097506, -0.0226678 , -0.03336058, -0.04905628,\n",
              "          0.01852641, -0.04057593,  0.03176903,  0.0298509 ,\n",
              "          0.03332621,  0.00607848],\n",
              "        [-0.03097506, -0.0226678 , -0.03336058, -0.04905628,\n",
              "          0.01852641, -0.04057593,  0.03176903,  0.0298509 ,\n",
              "          0.03332621,  0.00607848],\n",
              "        [ 0.04334069,  0.04144125, -0.02407857, -0.04660672,\n",
              "         -0.03614321,  0.04750271,  0.00083437,  0.02113967,\n",
              "          0.00489318,  0.00684176],\n",
              "        [-0.01815374,  0.04318548, -0.03217219,  0.01078875,\n",
              "          0.00713845, -0.03652934,  0.03469895,  0.01893904,\n",
              "         -0.0044025 , -0.0123135 ],\n",
              "        [ 0.04023408, -0.0230131 , -0.04754892,  0.01637478,\n",
              "          0.00425004,  0.02472958,  0.00860798,  0.04876485,\n",
              "          0.01082605, -0.04776353],\n",
              "        [-0.00668528, -0.03435927,  0.03711534, -0.02510246,\n",
              "         -0.02001827,  0.03805519,  0.01401314,  0.03373809,\n",
              "          0.04600087,  0.00358157]],\n",
              "\n",
              "       [[-0.03097506, -0.0226678 , -0.03336058, -0.04905628,\n",
              "          0.01852641, -0.04057593,  0.03176903,  0.0298509 ,\n",
              "          0.03332621,  0.00607848],\n",
              "        [-0.03097506, -0.0226678 , -0.03336058, -0.04905628,\n",
              "          0.01852641, -0.04057593,  0.03176903,  0.0298509 ,\n",
              "          0.03332621,  0.00607848],\n",
              "        [-0.03097506, -0.0226678 , -0.03336058, -0.04905628,\n",
              "          0.01852641, -0.04057593,  0.03176903,  0.0298509 ,\n",
              "          0.03332621,  0.00607848],\n",
              "        [-0.03097506, -0.0226678 , -0.03336058, -0.04905628,\n",
              "          0.01852641, -0.04057593,  0.03176903,  0.0298509 ,\n",
              "          0.03332621,  0.00607848],\n",
              "        [ 0.04334069,  0.04144125, -0.02407857, -0.04660672,\n",
              "         -0.03614321,  0.04750271,  0.00083437,  0.02113967,\n",
              "          0.00489318,  0.00684176],\n",
              "        [-0.01815374,  0.04318548, -0.03217219,  0.01078875,\n",
              "          0.00713845, -0.03652934,  0.03469895,  0.01893904,\n",
              "         -0.0044025 , -0.0123135 ],\n",
              "        [ 0.04023408, -0.0230131 , -0.04754892,  0.01637478,\n",
              "          0.00425004,  0.02472958,  0.00860798,  0.04876485,\n",
              "          0.01082605, -0.04776353],\n",
              "        [ 0.02480948, -0.01843326,  0.01826676,  0.00922143,\n",
              "          0.01481785,  0.02682975,  0.0319328 ,  0.02678353,\n",
              "          0.04911574,  0.01350119]],\n",
              "\n",
              "       [[-0.03097506, -0.0226678 , -0.03336058, -0.04905628,\n",
              "          0.01852641, -0.04057593,  0.03176903,  0.0298509 ,\n",
              "          0.03332621,  0.00607848],\n",
              "        [-0.03097506, -0.0226678 , -0.03336058, -0.04905628,\n",
              "          0.01852641, -0.04057593,  0.03176903,  0.0298509 ,\n",
              "          0.03332621,  0.00607848],\n",
              "        [-0.03097506, -0.0226678 , -0.03336058, -0.04905628,\n",
              "          0.01852641, -0.04057593,  0.03176903,  0.0298509 ,\n",
              "          0.03332621,  0.00607848],\n",
              "        [-0.03097506, -0.0226678 , -0.03336058, -0.04905628,\n",
              "          0.01852641, -0.04057593,  0.03176903,  0.0298509 ,\n",
              "          0.03332621,  0.00607848],\n",
              "        [-0.04624705, -0.01478832, -0.01303802,  0.03983814,\n",
              "         -0.02752644,  0.00066183,  0.00893069, -0.01950355,\n",
              "          0.04615921,  0.04576511],\n",
              "        [-0.04014171,  0.04891261,  0.04576839, -0.01689267,\n",
              "          0.0111267 , -0.01180474,  0.01636019, -0.04929776,\n",
              "         -0.01685891, -0.00606725],\n",
              "        [ 0.00720282,  0.0417206 ,  0.01357928,  0.02288885,\n",
              "         -0.03939642,  0.04723886, -0.0435719 , -0.00440869,\n",
              "         -0.00131053, -0.00976855],\n",
              "        [ 0.03300704,  0.02210578, -0.00218034,  0.00683258,\n",
              "         -0.04378713,  0.04053327,  0.03594483,  0.00988628,\n",
              "         -0.02656567,  0.01289464]],\n",
              "\n",
              "       [[-0.03097506, -0.0226678 , -0.03336058, -0.04905628,\n",
              "          0.01852641, -0.04057593,  0.03176903,  0.0298509 ,\n",
              "          0.03332621,  0.00607848],\n",
              "        [-0.03097506, -0.0226678 , -0.03336058, -0.04905628,\n",
              "          0.01852641, -0.04057593,  0.03176903,  0.0298509 ,\n",
              "          0.03332621,  0.00607848],\n",
              "        [-0.03097506, -0.0226678 , -0.03336058, -0.04905628,\n",
              "          0.01852641, -0.04057593,  0.03176903,  0.0298509 ,\n",
              "          0.03332621,  0.00607848],\n",
              "        [-0.03097506, -0.0226678 , -0.03336058, -0.04905628,\n",
              "          0.01852641, -0.04057593,  0.03176903,  0.0298509 ,\n",
              "          0.03332621,  0.00607848],\n",
              "        [-0.04624705, -0.01478832, -0.01303802,  0.03983814,\n",
              "         -0.02752644,  0.00066183,  0.00893069, -0.01950355,\n",
              "          0.04615921,  0.04576511],\n",
              "        [-0.04014171,  0.04891261,  0.04576839, -0.01689267,\n",
              "          0.0111267 , -0.01180474,  0.01636019, -0.04929776,\n",
              "         -0.01685891, -0.00606725],\n",
              "        [ 0.00720282,  0.0417206 ,  0.01357928,  0.02288885,\n",
              "         -0.03939642,  0.04723886, -0.0435719 , -0.00440869,\n",
              "         -0.00131053, -0.00976855],\n",
              "        [ 0.03445074, -0.00962018,  0.03004099,  0.04571028,\n",
              "         -0.0263617 , -0.04458604, -0.0335758 , -0.00722263,\n",
              "         -0.01462017,  0.02537386]],\n",
              "\n",
              "       [[-0.03097506, -0.0226678 , -0.03336058, -0.04905628,\n",
              "          0.01852641, -0.04057593,  0.03176903,  0.0298509 ,\n",
              "          0.03332621,  0.00607848],\n",
              "        [-0.03097506, -0.0226678 , -0.03336058, -0.04905628,\n",
              "          0.01852641, -0.04057593,  0.03176903,  0.0298509 ,\n",
              "          0.03332621,  0.00607848],\n",
              "        [-0.03097506, -0.0226678 , -0.03336058, -0.04905628,\n",
              "          0.01852641, -0.04057593,  0.03176903,  0.0298509 ,\n",
              "          0.03332621,  0.00607848],\n",
              "        [-0.03097506, -0.0226678 , -0.03336058, -0.04905628,\n",
              "          0.01852641, -0.04057593,  0.03176903,  0.0298509 ,\n",
              "          0.03332621,  0.00607848],\n",
              "        [-0.03097506, -0.0226678 , -0.03336058, -0.04905628,\n",
              "          0.01852641, -0.04057593,  0.03176903,  0.0298509 ,\n",
              "          0.03332621,  0.00607848],\n",
              "        [ 0.01632592, -0.03708007,  0.03388048,  0.01156318,\n",
              "         -0.0254728 , -0.02399221,  0.00227897, -0.00816935,\n",
              "          0.04538528, -0.04519812],\n",
              "        [ 0.04334069,  0.04144125, -0.02407857, -0.04660672,\n",
              "         -0.03614321,  0.04750271,  0.00083437,  0.02113967,\n",
              "          0.00489318,  0.00684176],\n",
              "        [-0.02897048,  0.00262512, -0.00378405, -0.00463321,\n",
              "          0.04431574, -0.02256889, -0.04579709, -0.00801804,\n",
              "         -0.02938834, -0.04467204]]], dtype=float32)"
            ]
          },
          "metadata": {},
          "execution_count": 12
        }
      ]
    },
    {
      "cell_type": "code",
      "source": [],
      "metadata": {
        "id": "Kg55-3WuO2ts"
      },
      "execution_count": null,
      "outputs": []
    }
  ]
}